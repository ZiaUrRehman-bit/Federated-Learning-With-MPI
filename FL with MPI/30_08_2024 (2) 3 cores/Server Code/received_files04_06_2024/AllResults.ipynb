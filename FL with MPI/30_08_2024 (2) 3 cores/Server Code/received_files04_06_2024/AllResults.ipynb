{
 "cells": [
  {
   "cell_type": "code",
   "execution_count": 1,
   "metadata": {},
   "outputs": [
    {
     "name": "stderr",
     "output_type": "stream",
     "text": [
      "C:\\Users\\Muhammad Nouman\\AppData\\Local\\Temp\\ipykernel_22080\\1647423813.py:2: DeprecationWarning: \n",
      "Pyarrow will become a required dependency of pandas in the next major release of pandas (pandas 3.0),\n",
      "(to allow more performant data types, such as the Arrow string type, and better interoperability with other libraries)\n",
      "but was not found to be installed on your system.\n",
      "If this would cause problems for you,\n",
      "please provide us feedback at https://github.com/pandas-dev/pandas/issues/54466\n",
      "        \n",
      "  import pandas as pd\n"
     ]
    },
    {
     "name": "stdout",
     "output_type": "stream",
     "text": [
      "Data extracted and saved to all_results.xlsx\n"
     ]
    }
   ],
   "source": [
    "import re\n",
    "import pandas as pd\n",
    "import numpy as np\n",
    "import matplotlib.pyplot as plt\n",
    "import seaborn as sns\n",
    "\n",
    "# List of file names\n",
    "file_names = [\n",
    "    'metrics_machine1.txt',\n",
    "    'metrics_machine2.txt',\n",
    "    'metrics_machine3.txt',\n",
    "    'metrics_machine4.txt'\n",
    "]\n",
    "\n",
    "# Initialize an empty list to store data for all files\n",
    "all_data = []\n",
    "\n",
    "# Loop through each file and extract data\n",
    "for file_name in file_names:\n",
    "    with open(file_name, 'r') as file:\n",
    "        content = file.read()\n",
    "    \n",
    "    # Extract required values using regex\n",
    "    accuracy = float(re.search(r'Test accuracy:\\s+([\\d.]+)', content).group(1))\n",
    "    loss = float(re.search(r'Test Loss:\\s+([\\d.]+)', content).group(1))\n",
    "    total_training_time = float(re.search(r'Total Training Time:\\s+([\\d.]+)', content).group(1))\n",
    "\n",
    "    weighted_avg = re.findall(r'weighted avg\\s+([\\d.]+)\\s+([\\d.]+)\\s+([\\d.]+)', content)\n",
    "    weighted_avg_precision, weighted_avg_recall, weighted_avg_f1 = map(float, weighted_avg[0])\n",
    "    \n",
    "    # Append extracted data to the list\n",
    "    all_data.append({\n",
    "        'File': file_name,\n",
    "        'Test Accuracy': accuracy,\n",
    "        'Test Loss': loss,\n",
    "        'Total Training Time': total_training_time,\n",
    "        'Weighted Avg Precision': weighted_avg_precision,\n",
    "        'Weighted Avg Recall': weighted_avg_recall,\n",
    "        'Weighted Avg F1-score': weighted_avg_f1\n",
    "    })\n",
    "\n",
    "# Convert the list of dictionaries to a DataFrame\n",
    "df = pd.DataFrame(all_data)\n",
    "\n",
    "# Save all extracted values into an Excel file\n",
    "df.to_excel('all_results.xlsx', index=False)\n",
    "\n",
    "print(\"Data extracted and saved to all_results.xlsx\")\n"
   ]
  },
  {
   "cell_type": "code",
   "execution_count": null,
   "metadata": {},
   "outputs": [],
   "source": []
  }
 ],
 "metadata": {
  "kernelspec": {
   "display_name": "Python 3",
   "language": "python",
   "name": "python3"
  },
  "language_info": {
   "codemirror_mode": {
    "name": "ipython",
    "version": 3
   },
   "file_extension": ".py",
   "mimetype": "text/x-python",
   "name": "python",
   "nbconvert_exporter": "python",
   "pygments_lexer": "ipython3",
   "version": "3.11.4"
  }
 },
 "nbformat": 4,
 "nbformat_minor": 2
}
